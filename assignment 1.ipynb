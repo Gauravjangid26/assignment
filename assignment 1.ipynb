{
 "cells": [
  {
   "cell_type": "markdown",
   "id": "1049b4a3",
   "metadata": {},
   "source": [
    "# assignment 29th jan\n"
   ]
  },
  {
   "cell_type": "markdown",
   "id": "53388520",
   "metadata": {},
   "source": [
    "Q1."
   ]
  },
  {
   "cell_type": "code",
   "execution_count": 1,
   "id": "9cf5b9c5",
   "metadata": {},
   "outputs": [],
   "source": [
    "#Guido van rossum"
   ]
  },
  {
   "cell_type": "markdown",
   "id": "26a811a1",
   "metadata": {},
   "source": [
    "Q2."
   ]
  },
  {
   "cell_type": "code",
   "execution_count": 2,
   "id": "d99312a9",
   "metadata": {},
   "outputs": [],
   "source": [
    "#object oriented programming and structured fully supported by python"
   ]
  },
  {
   "cell_type": "markdown",
   "id": "ac2fbc00",
   "metadata": {},
   "source": [
    "Q3"
   ]
  },
  {
   "cell_type": "code",
   "execution_count": 3,
   "id": "facbc8be",
   "metadata": {},
   "outputs": [
    {
     "ename": "NameError",
     "evalue": "name 'yes' is not defined",
     "output_type": "error",
     "traceback": [
      "\u001b[0;31m---------------------------------------------------------------------------\u001b[0m",
      "\u001b[0;31mNameError\u001b[0m                                 Traceback (most recent call last)",
      "Cell \u001b[0;32mIn[3], line 1\u001b[0m\n\u001b[0;32m----> 1\u001b[0m \u001b[43myes\u001b[49m\n",
      "\u001b[0;31mNameError\u001b[0m: name 'yes' is not defined"
     ]
    }
   ],
   "source": [
    "#yes"
   ]
  },
  {
   "cell_type": "markdown",
   "id": "e0ed2d03",
   "metadata": {},
   "source": [
    "Q4"
   ]
  },
  {
   "cell_type": "code",
   "execution_count": 5,
   "id": "0a3d04fe",
   "metadata": {},
   "outputs": [],
   "source": [
    "#.py"
   ]
  },
  {
   "cell_type": "markdown",
   "id": "0b352fe5",
   "metadata": {},
   "source": [
    "Q5."
   ]
  },
  {
   "cell_type": "code",
   "execution_count": 6,
   "id": "3541e143",
   "metadata": {},
   "outputs": [],
   "source": [
    "#yes"
   ]
  },
  {
   "cell_type": "markdown",
   "id": "53ff26a3",
   "metadata": {},
   "source": [
    "Q6"
   ]
  },
  {
   "cell_type": "code",
   "execution_count": 7,
   "id": "a1f747a6",
   "metadata": {},
   "outputs": [],
   "source": [
    "#indentation"
   ]
  },
  {
   "cell_type": "markdown",
   "id": "e325123d",
   "metadata": {},
   "source": [
    "Q7."
   ]
  },
  {
   "cell_type": "code",
   "execution_count": 8,
   "id": "fd999a9b",
   "metadata": {},
   "outputs": [],
   "source": [
    "#"
   ]
  },
  {
   "cell_type": "markdown",
   "id": "cd686b6a",
   "metadata": {},
   "source": [
    "Q8"
   ]
  },
  {
   "cell_type": "code",
   "execution_count": 10,
   "id": "41f83d33",
   "metadata": {},
   "outputs": [],
   "source": [
    "#python --version"
   ]
  },
  {
   "cell_type": "markdown",
   "id": "1467bf4c",
   "metadata": {},
   "source": [
    "Q9"
   ]
  },
  {
   "cell_type": "code",
   "execution_count": 11,
   "id": "e74735a6",
   "metadata": {},
   "outputs": [],
   "source": [
    "#lambda function"
   ]
  },
  {
   "cell_type": "markdown",
   "id": "05c5a5a1",
   "metadata": {},
   "source": [
    "Q10."
   ]
  },
  {
   "cell_type": "code",
   "execution_count": 12,
   "id": "b17c8c3c",
   "metadata": {},
   "outputs": [],
   "source": [
    "#preferred installer program"
   ]
  },
  {
   "cell_type": "markdown",
   "id": "d05b7be0",
   "metadata": {},
   "source": [
    "Q11."
   ]
  },
  {
   "cell_type": "code",
   "execution_count": 13,
   "id": "bea08d8e",
   "metadata": {},
   "outputs": [],
   "source": [
    "#sum(),find(),avg(),uppercase(),len(),list(),input(),print(),pow(),range(),ascii()"
   ]
  },
  {
   "cell_type": "markdown",
   "id": "da65d643",
   "metadata": {},
   "source": [
    "Q12"
   ]
  },
  {
   "cell_type": "code",
   "execution_count": 15,
   "id": "326d397a",
   "metadata": {},
   "outputs": [],
   "source": [
    "#79"
   ]
  },
  {
   "cell_type": "markdown",
   "id": "4bab969c",
   "metadata": {},
   "source": [
    "Q13"
   ]
  },
  {
   "cell_type": "code",
   "execution_count": 16,
   "id": "736868e3",
   "metadata": {},
   "outputs": [
    {
     "data": {
      "text/plain": [
       "'\\n1.Presence of third-party modules \\n2.Extensive support libraries(NumPy for numerical calculations, Pandas for data analytics, etc.) \\n3.Open source and large active community base \\n4.Versatile, Easy to read, learn and write\\n5.User-friendly data structures \\n6.High-level language \\n7.Dynamically typed language(No need to mention data type based on the value assigned, it takes data type) \\n '"
      ]
     },
     "execution_count": 16,
     "metadata": {},
     "output_type": "execute_result"
    }
   ],
   "source": [
    "'''\n",
    "1.Presence of third-party modules \n",
    "2.Extensive support libraries(NumPy for numerical calculations, Pandas for data analytics, etc.) \n",
    "3.Open source and large active community base \n",
    "4.Versatile, Easy to read, learn and write\n",
    "5.User-friendly data structures \n",
    "6.High-level language \n",
    "7.Dynamically typed language(No need to mention data type based on the value assigned, it takes data type) \n",
    " '''"
   ]
  },
  {
   "cell_type": "markdown",
   "id": "65a7ff7c",
   "metadata": {},
   "source": [
    "Q14"
   ]
  },
  {
   "cell_type": "code",
   "execution_count": 17,
   "id": "c7321a77",
   "metadata": {},
   "outputs": [
    {
     "data": {
      "text/plain": [
       "'Memory management in Python involves a private heap containing all Python objects and data structures. The management of this private heap is ensured internally by the Python memory manager. The Python memory manager has different components which deal with various dynamic storage management aspects, like sharing, segmentation, preallocation or caching.\\n\\n'"
      ]
     },
     "execution_count": 17,
     "metadata": {},
     "output_type": "execute_result"
    }
   ],
   "source": [
    "'''Memory management in Python involves a private heap containing all Python objects and data structures. The management of this private heap is ensured internally by the Python memory manager. The Python memory manager has different components which deal with various dynamic storage management aspects, like sharing, segmentation, preallocation or caching.\n",
    "\n",
    "'''"
   ]
  },
  {
   "cell_type": "markdown",
   "id": "71f0614a",
   "metadata": {},
   "source": [
    "Q15"
   ]
  },
  {
   "cell_type": "code",
   "execution_count": 18,
   "id": "4317a435",
   "metadata": {},
   "outputs": [
    {
     "data": {
      "text/plain": [
       "'Right click on My Computer and click on properties.\\nClick on Advanced System settings.\\nClick on Environment Variable tab.\\nClick on new tab of user variables.\\nWrite path in variable name.\\nCopy the path of Python folder.\\nPaste path of Python in variable value. Click on Ok button: Click on Ok button:'"
      ]
     },
     "execution_count": 18,
     "metadata": {},
     "output_type": "execute_result"
    }
   ],
   "source": [
    "\"first download the python package from internet\"\n",
    "'''Right click on My Computer and click on properties.\n",
    "Click on Advanced System settings.\n",
    "Click on Environment Variable tab.\n",
    "Click on new tab of user variables.\n",
    "Write path in variable name.\n",
    "Copy the path of Python folder.\n",
    "Paste path of Python in variable value. Click on Ok button: Click on Ok button:'''"
   ]
  },
  {
   "cell_type": "markdown",
   "id": "3e30eb41",
   "metadata": {},
   "source": [
    "Q16\n"
   ]
  },
  {
   "cell_type": "code",
   "execution_count": 20,
   "id": "9c5899ee",
   "metadata": {},
   "outputs": [],
   "source": [
    "#yes"
   ]
  },
  {
   "cell_type": "code",
   "execution_count": null,
   "id": "11c3a020",
   "metadata": {},
   "outputs": [],
   "source": []
  }
 ],
 "metadata": {
  "kernelspec": {
   "display_name": "Python 3 (ipykernel)",
   "language": "python",
   "name": "python3"
  },
  "language_info": {
   "codemirror_mode": {
    "name": "ipython",
    "version": 3
   },
   "file_extension": ".py",
   "mimetype": "text/x-python",
   "name": "python",
   "nbconvert_exporter": "python",
   "pygments_lexer": "ipython3",
   "version": "3.11.1"
  }
 },
 "nbformat": 4,
 "nbformat_minor": 5
}
