{
 "cells": [
  {
   "cell_type": "markdown",
   "id": "281070e2",
   "metadata": {},
   "source": [
    "Q1. Which function is used to open a file? What are the different modes of opening a file? Explain each mode of file opening.\n",
    "\n",
    "Q2. Why close() function is used? Why is it important to close a file?\n",
    "\n",
    "Q3. Write a python program to create a text file. Write ‘I want to become a Data Scientist’ in that file. Then\n",
    "close the file. Open this file and read the content of the file.\n",
    "\n",
    "Q4. Explain the following with python code: read(), readline() and readlines().\n",
    "\n",
    "Q5. Explain why with statement is used with open(). What is the advantage of using with statement and\n",
    "open() together?\n",
    "\n",
    "Q6. Explain the write() and writelines() functions. Give a suitable example."
   ]
  },
  {
   "cell_type": "markdown",
   "id": "9f78a97e",
   "metadata": {},
   "source": [
    "# Q1"
   ]
  },
  {
   "cell_type": "markdown",
   "id": "43e67f12",
   "metadata": {},
   "source": [
    "function is used to open file is open()\n"
   ]
  },
  {
   "cell_type": "markdown",
   "id": "8b228b03",
   "metadata": {},
   "source": [
    "modes\n",
    "\n",
    "'r'       open for reading (default)\n",
    "\n",
    "'w'       open for writing, truncating the file first\n",
    "\n",
    "'x'       create a new file and open it for writing\n",
    "\n",
    "'a'       open for writing, appending to the end of the file if it exists\n",
    "\n",
    "'b'       binary mode\n",
    "\n",
    "'t'       text mode (default)\n",
    "\n",
    "'+'       open a disk file for updating (reading and writing)"
   ]
  },
  {
   "cell_type": "markdown",
   "id": "82643c2b",
   "metadata": {},
   "source": [
    "# Q2"
   ]
  },
  {
   "cell_type": "markdown",
   "id": "0c14e06f",
   "metadata": {},
   "source": [
    "close() is used to close the file.\n",
    "\n",
    " importance ->\n",
    "\n",
    "- any operation after this raises an value error after close file\n",
    "\n",
    "- if we dont close then the new operation implement on the opened file... which we dont want"
   ]
  },
  {
   "cell_type": "markdown",
   "id": "87e40207",
   "metadata": {},
   "source": [
    "# Q3"
   ]
  },
  {
   "cell_type": "code",
   "execution_count": null,
   "id": "2b2ac17d",
   "metadata": {},
   "outputs": [],
   "source": [
    "str=\"I want to become a Data Scientist’ in that file\""
   ]
  },
  {
   "cell_type": "code",
   "execution_count": null,
   "id": "6a8d5ef6",
   "metadata": {},
   "outputs": [],
   "source": [
    "file=open(\"a.txt\",\"w\")\n",
    "file.writelines(str)\n",
    "file.close()"
   ]
  },
  {
   "cell_type": "code",
   "execution_count": null,
   "id": "915e4a59",
   "metadata": {},
   "outputs": [],
   "source": [
    "file=open(\"a.txt\",\"r\")\n",
    "file.read()"
   ]
  },
  {
   "cell_type": "markdown",
   "id": "1209a0c2",
   "metadata": {},
   "source": [
    "# Q4\n"
   ]
  },
  {
   "cell_type": "code",
   "execution_count": 12,
   "id": "c5e1cab6",
   "metadata": {},
   "outputs": [
    {
     "data": {
      "text/plain": [
       "263"
      ]
     },
     "execution_count": 12,
     "metadata": {},
     "output_type": "execute_result"
    }
   ],
   "source": [
    "file=open(\"a.txt\",\"a\")\n",
    "file.write('''Python file method close() closes the opened file.\n",
    "           A closed file cannot be read or written any more. Any operation, which requires that the file be opened will raise a ValueError after the file has been closed. Calling close() more than once is allowed''')"
   ]
  },
  {
   "cell_type": "code",
   "execution_count": 20,
   "id": "564ac3ac",
   "metadata": {},
   "outputs": [],
   "source": [
    "file=open(\"a.txt\",\"r\")"
   ]
  },
  {
   "cell_type": "code",
   "execution_count": 21,
   "id": "ca8745ff",
   "metadata": {},
   "outputs": [
    {
     "data": {
      "text/plain": [
       "'I want to become a Data Scientist’ in that filePython file method close() closes the opened file. A closed file cannot be read or written any more. Any operation, which requires that the file be opened will raise a ValueError after the file has been closed. Calling close() more than once is allowedPython file method close() closes the opened file.\\n           A closed file cannot be read or written any more. Any operation, which requires that the file be opened will raise a ValueError after the file has been closed. Calling close() more than once is allowedPython file method close() closes the opened file.\\n           A closed file cannot be read or written any more. Any operation, which requires that the file be opened will raise a ValueError after the file has been closed. Calling close() more than once is allowedPython file method close() closes the opened file.\\n           A closed file cannot be read or written any more. Any operation, which requires that the file be opened will raise a ValueError after the file has been closed. Calling close() more than once is allowed'"
      ]
     },
     "execution_count": 21,
     "metadata": {},
     "output_type": "execute_result"
    }
   ],
   "source": [
    "file.read()\n"
   ]
  },
  {
   "cell_type": "code",
   "execution_count": 23,
   "id": "d5c564e1",
   "metadata": {},
   "outputs": [
    {
     "data": {
      "text/plain": [
       "'become a Data Scientist’ in that filePython file method close() closes the opened file. A closed file cannot be read or written any more. Any operation, which requires that the file be opened will raise a ValueError after the file has been closed. Calling close() more than once is allowedPython file method close() closes the opened file.\\n'"
      ]
     },
     "execution_count": 23,
     "metadata": {},
     "output_type": "execute_result"
    }
   ],
   "source": [
    "file.seek(10)\n",
    "file.readline()\n",
    "\n"
   ]
  },
  {
   "cell_type": "code",
   "execution_count": 24,
   "id": "d25797a8",
   "metadata": {},
   "outputs": [
    {
     "data": {
      "text/plain": [
       "['           A closed file cannot be read or written any more. Any operation, which requires that the file be opened will raise a ValueError after the file has been closed. Calling close() more than once is allowedPython file method close() closes the opened file.\\n',\n",
       " '           A closed file cannot be read or written any more. Any operation, which requires that the file be opened will raise a ValueError after the file has been closed. Calling close() more than once is allowedPython file method close() closes the opened file.\\n',\n",
       " '           A closed file cannot be read or written any more. Any operation, which requires that the file be opened will raise a ValueError after the file has been closed. Calling close() more than once is allowed']"
      ]
     },
     "execution_count": 24,
     "metadata": {},
     "output_type": "execute_result"
    }
   ],
   "source": [
    "file.readlines()\n"
   ]
  },
  {
   "cell_type": "code",
   "execution_count": 25,
   "id": "4ef012ec",
   "metadata": {},
   "outputs": [],
   "source": [
    "file.close()"
   ]
  },
  {
   "cell_type": "markdown",
   "id": "faccc450",
   "metadata": {},
   "source": [
    "# Q5"
   ]
  },
  {
   "cell_type": "markdown",
   "id": "c156c491",
   "metadata": {},
   "source": [
    "The with statement works with the open() function to open a file.\n",
    "So, you can re-write the code we used in the open() function\n",
    "\n",
    "open() where you have to close the file with the close() method, the with statement closes the file for you without you telling it to.\n",
    "\n",
    "This is because the with statement calls 2 built-in methods behind the scene – __enter()__ and __exit()__.\n",
    "\n",
    "       advantages-->\n",
    "\n",
    "     -The __exit()__ method closes the file when the operation you specify is done.\n",
    "     -you to use the combination of with and open() because the with statement closes the file for you and you get to write less code."
   ]
  },
  {
   "cell_type": "markdown",
   "id": "7a0bbd22",
   "metadata": {},
   "source": [
    "# Q6 "
   ]
  },
  {
   "cell_type": "markdown",
   "id": "e68e7b07",
   "metadata": {},
   "source": [
    "writelines() Write a list of lines to stream.\n",
    "Line separators are not added, so it is usual for each of the\n",
    "lines provided to have a line separator at the end."
   ]
  },
  {
   "cell_type": "markdown",
   "id": "71853afb",
   "metadata": {},
   "source": [
    "write() is used to write the string in stream,and it truncates old data in stream and it retuns no of character in string\n"
   ]
  },
  {
   "cell_type": "code",
   "execution_count": null,
   "id": "2585d075",
   "metadata": {},
   "outputs": [],
   "source": []
  }
 ],
 "metadata": {
  "kernelspec": {
   "display_name": "Python 3 (ipykernel)",
   "language": "python",
   "name": "python3"
  },
  "language_info": {
   "codemirror_mode": {
    "name": "ipython",
    "version": 3
   },
   "file_extension": ".py",
   "mimetype": "text/x-python",
   "name": "python",
   "nbconvert_exporter": "python",
   "pygments_lexer": "ipython3",
   "version": "3.11.1"
  }
 },
 "nbformat": 4,
 "nbformat_minor": 5
}
