{
 "cells": [
  {
   "cell_type": "markdown",
   "id": "139c269a",
   "metadata": {},
   "source": [
    "Q1. Explain GET and POST methods.\n",
    "\n",
    "Q2. Why is request used in Flask?\n",
    "\n",
    "Q3. Why is redirect() used in Flask?\n",
    "\n",
    "Q4. What are templates in Flask? Why is the render_template() function used?\n",
    "\n",
    "Q5. Create a simple API. Use Postman to test it. Attach the screenshot of the output in the Jupyter Notebook."
   ]
  },
  {
   "cell_type": "markdown",
   "id": "fc238850",
   "metadata": {},
   "source": [
    "# Q1"
   ]
  },
  {
   "cell_type": "code",
   "execution_count": null,
   "id": "e6d7d90f",
   "metadata": {},
   "outputs": [],
   "source": [
    "GET==The most common method. A GET message is send, and the server returns data\n",
    "POST==Used to send HTML form data to the server. The data received by the POST method is not cached by the server.\n",
    "\n"
   ]
  },
  {
   "cell_type": "code",
   "execution_count": null,
   "id": "d0eb9d35",
   "metadata": {},
   "outputs": [
    {
     "name": "stdout",
     "output_type": "stream",
     "text": [
      " * Serving Flask app '__main__'\n",
      " * Debug mode: off\n"
     ]
    },
    {
     "name": "stderr",
     "output_type": "stream",
     "text": [
      "\u001b[31m\u001b[1mWARNING: This is a development server. Do not use it in a production deployment. Use a production WSGI server instead.\u001b[0m\n",
      " * Running on http://127.0.0.1:5000\n",
      "\u001b[33mPress CTRL+C to quit\u001b[0m\n",
      "127.0.0.1 - - [09/Mar/2023 12:16:27] \"\u001b[33mGET / HTTP/1.1\u001b[0m\" 404 -\n"
     ]
    }
   ],
   "source": [
    "from flask import Flask, redirect, url_for, request\n",
    "app = Flask(__name__)\n",
    "\n",
    "@app.route('/success/<name>')\n",
    "def success(name):\n",
    "   return 'welcome %s' % name\n",
    "\n",
    "@app.route('/login',methods = ['POST', 'GET'])\n",
    "def login():\n",
    "   if request.method == 'POST':\n",
    "      user = request.form['nm']\n",
    "      return redirect(url_for('success',name = user))\n",
    "   else:\n",
    "      user = request.args.get('nm')\n",
    "      return redirect(url_for('success',name = user))\n",
    "\n",
    "if __name__ == '__main__':\n",
    "   app.run()"
   ]
  },
  {
   "cell_type": "markdown",
   "id": "e2f2a86f",
   "metadata": {},
   "source": [
    "# Q2"
   ]
  },
  {
   "cell_type": "markdown",
   "id": "996bf2bb",
   "metadata": {},
   "source": [
    "The data from a client’s web page is sent to the server as a global request object. In order to process the request data, it should be imported from the Flask module.\n",
    "\n",
    "Important attributes of request object are listed below −\n",
    "\n",
    "Form − It is a dictionary object containing key and value pairs of form parameters and their values.\n",
    "\n",
    "args − parsed contents of query string which is part of URL after question mark (?).\n",
    "\n",
    "Cookies − dictionary object holding Cookie names and values.\n",
    "\n",
    "files − data pertaining to uploaded file.\n",
    "\n",
    "method − current request method."
   ]
  },
  {
   "cell_type": "markdown",
   "id": "f8386c59",
   "metadata": {},
   "source": [
    "# Q3"
   ]
  },
  {
   "cell_type": "code",
   "execution_count": null,
   "id": "9f98a4ae",
   "metadata": {},
   "outputs": [],
   "source": [
    "Flask class has a redirect() function. When called, it returns a response object and redirects the user to another target location with specified status code.\n",
    "\n",
    "Location parameter is the URL where response should be redirected.\n",
    "statuscode sent to browser’s header, defaults to 302.\n",
    "response parameter is used to instantiate response."
   ]
  },
  {
   "cell_type": "markdown",
   "id": "40168e6e",
   "metadata": {},
   "source": [
    "# Q4"
   ]
  },
  {
   "cell_type": "markdown",
   "id": "92df66b6",
   "metadata": {},
   "source": [
    "It is possible to return the output of a function bound to a certain URL in the form of HTML\n",
    "\n",
    "from flask import Flask\n",
    "\n",
    "app = Flask(__name__)\n",
    "\n",
    "@app.route('/')\n",
    "\n",
    "def index():\n",
    "\n",
    "    return render_template(‘hello.html’)\n",
    "\n",
    "if __name__ == '__main__':\n",
    "\n",
    "    app.run(debug = True)"
   ]
  },
  {
   "cell_type": "markdown",
   "id": "3c8b7e51",
   "metadata": {},
   "source": [
    "# Q5"
   ]
  },
  {
   "cell_type": "code",
   "execution_count": 1,
   "id": "2065ea12",
   "metadata": {},
   "outputs": [
    {
     "name": "stdout",
     "output_type": "stream",
     "text": [
      "Requirement already satisfied: flask in /Library/Frameworks/Python.framework/Versions/3.11/lib/python3.11/site-packages (2.2.3)\n",
      "Requirement already satisfied: Werkzeug>=2.2.2 in /Library/Frameworks/Python.framework/Versions/3.11/lib/python3.11/site-packages (from flask) (2.2.3)\n",
      "Requirement already satisfied: Jinja2>=3.0 in /Library/Frameworks/Python.framework/Versions/3.11/lib/python3.11/site-packages (from flask) (3.1.2)\n",
      "Requirement already satisfied: itsdangerous>=2.0 in /Library/Frameworks/Python.framework/Versions/3.11/lib/python3.11/site-packages (from flask) (2.1.2)\n",
      "Requirement already satisfied: click>=8.0 in /Library/Frameworks/Python.framework/Versions/3.11/lib/python3.11/site-packages (from flask) (8.1.3)\n",
      "Requirement already satisfied: MarkupSafe>=2.0 in /Library/Frameworks/Python.framework/Versions/3.11/lib/python3.11/site-packages (from Jinja2>=3.0->flask) (2.1.2)\n",
      "Note: you may need to restart the kernel to use updated packages.\n"
     ]
    }
   ],
   "source": [
    "pip install flask\n"
   ]
  },
  {
   "cell_type": "code",
   "execution_count": null,
   "id": "67d946aa",
   "metadata": {},
   "outputs": [
    {
     "name": "stdout",
     "output_type": "stream",
     "text": [
      " * Serving Flask app '__main__'\n",
      " * Debug mode: off\n"
     ]
    },
    {
     "name": "stderr",
     "output_type": "stream",
     "text": [
      "\u001b[31m\u001b[1mWARNING: This is a development server. Do not use it in a production deployment. Use a production WSGI server instead.\u001b[0m\n",
      " * Running on http://127.0.0.1:5000\n",
      "\u001b[33mPress CTRL+C to quit\u001b[0m\n",
      "127.0.0.1 - - [09/Mar/2023 13:48:53] \"GET / HTTP/1.1\" 200 -\n",
      "127.0.0.1 - - [09/Mar/2023 13:48:58] \"GET / HTTP/1.1\" 200 -\n",
      "127.0.0.1 - - [09/Mar/2023 13:48:58] \"GET /store HTTP/1.1\" 200 -\n"
     ]
    }
   ],
   "source": [
    "from flask import Flask,request,jsonify\n",
    "\n",
    "app=Flask(__name__)\n",
    "stores = [\n",
    "    {\n",
    "        'name': 'beautiful store',\n",
    "        'items': [\n",
    "            {\n",
    "                'name': 'flowers',\n",
    "                'price': 100\n",
    "            }\n",
    "        ]\n",
    "    },\n",
    "    {\n",
    "        'name': 'beautiful store 2',\n",
    "        'items': [\n",
    "            {\n",
    "                'name': 'books',\n",
    "                'price': 100\n",
    "            }\n",
    "        ]\n",
    "    }\n",
    "]\n",
    "\n",
    "\n",
    "@app.route(\"/\")\n",
    "def home():\n",
    "    return \"welcome to api\"\n",
    "\n",
    "@app.route('/store', methods=['POST'])\n",
    "def create_store():\n",
    "    request_data = request.get_json()\n",
    "    new_store = {\n",
    "        'name': request_data['name'],\n",
    "        'items': []\n",
    "    }\n",
    "    stores.append(new_store)\n",
    "    return jsonify(new_store)\n",
    "\n",
    "\n",
    "@app.route('/store')\n",
    "def get_all_store_name():\n",
    "    return jsonify({'stores': stores})\n",
    "\n",
    "\n",
    "@app.route('/store/<string:name>/item', methods=['POST'])\n",
    "def create_store_item(name):\n",
    "    request_data = request.get_json()\n",
    "    for store in stores:\n",
    "        if(store['name'] == name):\n",
    "            new_item = {\n",
    "                'name': request_data['name'],\n",
    "                'price': request_data['price']\n",
    "            }\n",
    "            store['items'].append(new_item)\n",
    "            return jsonify(new_item)\n",
    "    return jsonify({'message':'store not found'})\n",
    "\n",
    "\n",
    "@app.route('/store/<string:name>/item')\n",
    "def get_store_item(name):\n",
    "    for store in stores:\n",
    "        if(store['name'] == name):\n",
    "            return jsonify(store['items'])\n",
    "    return jsonify({'message': 'store not found'})\n",
    "\n",
    "if __name__==\"__main__\":\n",
    "    app.run()"
   ]
  },
  {
   "cell_type": "code",
   "execution_count": null,
   "id": "f87bc1d7",
   "metadata": {},
   "outputs": [],
   "source": []
  }
 ],
 "metadata": {
  "kernelspec": {
   "display_name": "Python 3 (ipykernel)",
   "language": "python",
   "name": "python3"
  },
  "language_info": {
   "codemirror_mode": {
    "name": "ipython",
    "version": 3
   },
   "file_extension": ".py",
   "mimetype": "text/x-python",
   "name": "python",
   "nbconvert_exporter": "python",
   "pygments_lexer": "ipython3",
   "version": "3.11.1"
  }
 },
 "nbformat": 4,
 "nbformat_minor": 5
}
