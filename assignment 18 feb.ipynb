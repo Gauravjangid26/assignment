{
 "cells": [
  {
   "cell_type": "markdown",
   "id": "03156d83",
   "metadata": {},
   "source": [
    "Q1. What is an API? Give an example, where an API is used in real life.\n",
    "\n",
    "Q2. Give advantages and disadvantages of using API.\n",
    "\n",
    "Q3. What is a Web API? Differentiate between API and Web API.\n",
    "\n",
    "Q4. Explain REST and SOAP Architecture. Mention shortcomings of SOAP.\n",
    "\n",
    "Q5. Differentiate between REST and SOAP."
   ]
  },
  {
   "cell_type": "markdown",
   "id": "129b8724",
   "metadata": {},
   "source": [
    "# Q1"
   ]
  },
  {
   "cell_type": "markdown",
   "id": "4c25005b",
   "metadata": {},
   "source": [
    "An API is the interface that allows two independent software components to exchange information. An API acts as an intermediary between internal software functions and external ones, creating an exchange of information so seamless that it often goes unnoticed by the end user.\n",
    "\n",
    "common examples of APIs:\n",
    "\n",
    "Sharing flight information between airlines and travel sites\n",
    "\n",
    "Using Google Maps in a rideshare app\n",
    "\n",
    "Building chatbots in a messaging service\n",
    "\n",
    "Embedding YouTube videos into a webpage\n",
    "\n",
    "Automating workflows between B2B software tools\n"
   ]
  },
  {
   "cell_type": "markdown",
   "id": "b8ebaec3",
   "metadata": {},
   "source": [
    "# Q2"
   ]
  },
  {
   "cell_type": "markdown",
   "id": "6c9d7948",
   "metadata": {},
   "source": [
    "The main advantage of providing an API is that it allows your users to do more with your product or service (i.e. it increases the value of your product). This typically takes one of two forms - \n",
    "\n",
    "an integration. An example of an integration is to push notifications from your product (such as CRM, Helpdesk) to a messaging tool such as Slack. In this way, if your customer uses Slack they can receive notifications without having to login directly to your system or check emails.\n",
    "\n",
    "new functionality. In the early days of Twitter, some of the most popular Twitter clients were produced by third parties using the Twitter API. Twitter and its users benefited from the new functionality that was undertaken by other companies.\n",
    "\n",
    "The disadvantages to providing an API are,\n",
    "\n",
    "Cost. Providing an API is expensive in terms of development time, ongoing maintenance, providing API documentation on your website and providing support to users of your API.\n",
    "\n",
    "Security exposure. Adding an API adds another attack surface to your website.\n",
    "You might not like the result or you may change business direction. It's not always easy to predict exactly how your API will be used. I"
   ]
  },
  {
   "cell_type": "markdown",
   "id": "9820b328",
   "metadata": {},
   "source": [
    "# Q3"
   ]
  },
  {
   "cell_type": "markdown",
   "id": "4aab8600",
   "metadata": {},
   "source": [
    " web API lets you interact with a web server through HTTP requests, while a REST API lets you interact with any kind of server over HTTP.\n",
    " \n",
    "Differences between SOAP and REST APIs\n",
    "\n",
    "REST API is essentially an architectural style, and therefore, it does not have any official standard. SOAP API is a protocol, and therefore, it happens to be an official standard.\n",
    " \n",
    "\n",
    "REST API can use several standards, including URL, XML, HTTP, and JSON. SOAP API is based mainly on XML and HTTP.\n",
    " \n",
    "\n",
    "REST API uses fewer resources and bandwidth since multiple standards are deployed by it. SOAP API takes more bandwidth since it makes use of XML for creating payloads.\n",
    " \n",
    "\n",
    "REST API uses URL exposure like @path for exposing business logic. SOAP API makes use of services interfaces for exposing business logic.\n",
    " \n",
    "\n",
    "REST API is convenient with JavaScript and enables simple implementation. SOAP API is likewise convenient with JavaScript; however, it does not support greater implementation.\n",
    " \n",
    "\n",
    "REST API makes use of Web App Description Language. On the other hand, SOAP API employs Web Services Description Language.\n",
    " \n",
    "\n",
    "REST API happens to be more secure because it can boast of HTTPS and SSL. On the contrary, SOAP API features SSL only."
   ]
  },
  {
   "cell_type": "markdown",
   "id": "f333cbd7",
   "metadata": {},
   "source": [
    "# Q4"
   ]
  },
  {
   "cell_type": "markdown",
   "id": "29de7a2a",
   "metadata": {},
   "source": [
    "REST: representational state transfer\n",
    "REST is a set of architectural principles attuned to the needs of lightweight web services and mobile applications. Because it's a set of guidelines, it leaves the implementation of these recommendations to developers.\n",
    "\n",
    "When a request for data is sent to a REST API, it’s usually done through hypertext transfer protocol (commonly referred to as HTTP). Once a request is received, APIs designed for REST (called RESTful APIs or RESTful web services) can return messages in a variety of formats: HTML, XML, plain text, and JSON. JSON (JavaScript object notation) is favored as a message format because it can be read by any programming language (despite the name), is human- and machine-readable, and is lightweight. In this way, RESTful APIs are more flexible and can be easier to set up.\n",
    "\n",
    "\n",
    "SOAP: simple object access protocol\n",
    "SOAP is a standard protocol that was first designed so that applications built with different languages and on different platforms could communicate. Because it is a protocol, it imposes built-in rules that increase its complexity and overhead, which can lead to longer page load times. However, these standards also offer built-in compliances that can make it preferable for enterprise scenarios. The built-in compliance standards include security, atomicity, consistency, isolation, and durability (ACID), which is a set of properties for ensuring reliable database transactions."
   ]
  },
  {
   "cell_type": "markdown",
   "id": "8b48ac2d",
   "metadata": {},
   "source": [
    "# Q5"
   ]
  },
  {
   "cell_type": "code",
   "execution_count": null,
   "id": "2ab138f7",
   "metadata": {},
   "outputs": [],
   "source": [
    "\n",
    "REST API vsSOAP\n",
    "Soap (Simple Object Access\n",
    "Rest (Representational State\n",
    "Protocol) is a Protocol\n",
    "Transfer) is an architectural style. SOAP can't use REST because it is a REST can use SOAP web services\n",
    "protocol. because it is a concept and can use\n",
    "any protocol like HTTP, SOAP.\n",
    "SOAP requires more bandwidth.\n",
    "REST requires less bandwidth SOAP permits XML data format\n",
    "only.\n",
    "SOAP defines own security REST permits different data format such as Plain text, HTML, XML,\n",
    "]SON etc. Restful web services inherits security measure from the\n",
    "underlying transport."
   ]
  },
  {
   "cell_type": "code",
   "execution_count": null,
   "id": "90175b67",
   "metadata": {},
   "outputs": [],
   "source": []
  }
 ],
 "metadata": {
  "kernelspec": {
   "display_name": "Python 3 (ipykernel)",
   "language": "python",
   "name": "python3"
  },
  "language_info": {
   "codemirror_mode": {
    "name": "ipython",
    "version": 3
   },
   "file_extension": ".py",
   "mimetype": "text/x-python",
   "name": "python",
   "nbconvert_exporter": "python",
   "pygments_lexer": "ipython3",
   "version": "3.11.1"
  }
 },
 "nbformat": 4,
 "nbformat_minor": 5
}
