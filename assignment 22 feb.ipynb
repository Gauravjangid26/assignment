{
 "cells": [
  {
   "cell_type": "markdown",
   "id": "79d09a6a-1f9f-4ea5-97da-1457f8016343",
   "metadata": {},
   "source": [
    "Q1. Create a Pandas Series that contains the following data: 4, 8, 15, 16, 23, and 42. Then, print the series.\n",
    "\n",
    "Q2. Create a variable of list type containing 10 elements in it, and apply pandas.Series function on the\n",
    "variable print it.\n",
    "\n",
    "Q3. Create a Pandas DataFrame that contains the following data:\n",
    "\n",
    "Then, print the DataFrame.\n",
    "\n",
    "Q4. What is ‘DataFrame’ in pandas and how is it different from pandas.series? Explain with an example.\n",
    "\n",
    "Q5. What are some common functions you can use to manipulate data in a Pandas DataFrame? Can\n",
    "you give an example of when you might use one of these functions?\n",
    "\n",
    "Q6. Which of the following is mutable in nature Series, DataFrame, Panel?\n",
    "\n",
    "Q7. Create a DataFrame using multiple Series. Explain with an example."
   ]
  },
  {
   "cell_type": "code",
   "execution_count": 2,
   "id": "c38643ba-1ba8-44ee-8937-77cd5c9fdf14",
   "metadata": {},
   "outputs": [
    {
     "data": {
      "text/plain": [
       "0     4\n",
       "1     8\n",
       "2    15\n",
       "3    16\n",
       "4    23\n",
       "5    42\n",
       "dtype: int64"
      ]
     },
     "execution_count": 2,
     "metadata": {},
     "output_type": "execute_result"
    }
   ],
   "source": [
    "#Q1. \n",
    "import pandas as pd\n",
    "pd.Series([4,8,15,16,23,42])"
   ]
  },
  {
   "cell_type": "code",
   "execution_count": 4,
   "id": "595eb747-e905-4203-a356-2112898ff620",
   "metadata": {},
   "outputs": [
    {
     "name": "stdout",
     "output_type": "stream",
     "text": [
      "0     1\n",
      "1     2\n",
      "2     3\n",
      "3     4\n",
      "4     5\n",
      "5     6\n",
      "6     7\n",
      "7     8\n",
      "8     9\n",
      "9    10\n",
      "dtype: int64\n"
     ]
    }
   ],
   "source": [
    "#Q2\n",
    "list=[1,2,3,4,5,6,7,8,9,10]\n",
    "a=pd.Series(list)\n",
    "print(a)"
   ]
  },
  {
   "cell_type": "code",
   "execution_count": 18,
   "id": "62197b6e-545f-471a-94aa-a6d54d8cc505",
   "metadata": {},
   "outputs": [],
   "source": [
    "#Q3\n",
    "dict={\"Name\":[\"Alice\",\"Bob\",\"Claire\"],\"Age\":[25,30,27],\"Gender\":[\"Female\",\"Male\",\"Female\"]}\n",
    "df=pd.DataFrame(dict)"
   ]
  },
  {
   "cell_type": "code",
   "execution_count": 19,
   "id": "9e1ecec4-3e16-4532-a0e1-a6a1cf83129d",
   "metadata": {},
   "outputs": [
    {
     "data": {
      "text/html": [
       "<div>\n",
       "<style scoped>\n",
       "    .dataframe tbody tr th:only-of-type {\n",
       "        vertical-align: middle;\n",
       "    }\n",
       "\n",
       "    .dataframe tbody tr th {\n",
       "        vertical-align: top;\n",
       "    }\n",
       "\n",
       "    .dataframe thead th {\n",
       "        text-align: right;\n",
       "    }\n",
       "</style>\n",
       "<table border=\"1\" class=\"dataframe\">\n",
       "  <thead>\n",
       "    <tr style=\"text-align: right;\">\n",
       "      <th></th>\n",
       "      <th>Name</th>\n",
       "      <th>Age</th>\n",
       "      <th>Gender</th>\n",
       "    </tr>\n",
       "  </thead>\n",
       "  <tbody>\n",
       "    <tr>\n",
       "      <th>0</th>\n",
       "      <td>Alice</td>\n",
       "      <td>25</td>\n",
       "      <td>Female</td>\n",
       "    </tr>\n",
       "    <tr>\n",
       "      <th>1</th>\n",
       "      <td>Bob</td>\n",
       "      <td>30</td>\n",
       "      <td>Male</td>\n",
       "    </tr>\n",
       "    <tr>\n",
       "      <th>2</th>\n",
       "      <td>Claire</td>\n",
       "      <td>27</td>\n",
       "      <td>Female</td>\n",
       "    </tr>\n",
       "  </tbody>\n",
       "</table>\n",
       "</div>"
      ],
      "text/plain": [
       "     Name  Age  Gender\n",
       "0   Alice   25  Female\n",
       "1     Bob   30    Male\n",
       "2  Claire   27  Female"
      ]
     },
     "execution_count": 19,
     "metadata": {},
     "output_type": "execute_result"
    }
   ],
   "source": [
    "df"
   ]
  },
  {
   "cell_type": "markdown",
   "id": "31dcde5e-2bb1-463e-8d9a-df50819dbaab",
   "metadata": {},
   "source": [
    "#Q4\n",
    "\n",
    "In pandas, a DataFrame is a two-dimensional data structure that represents tabular data. It is similar to a spreadsheet or a SQL table, where data is organized in rows and columns. A DataFrame can be thought of as a collection of pandas Series objects that share a common index.\n",
    "\n",
    "Each column in a DataFrame is a pandas Series, which is a one-dimensional labeled array capable of holding any data type. Series can be seen as the building blocks of a DataFrame. The main difference between a DataFrame and a Series is that a DataFrame can hold multiple columns, while a Series represents a single column.\n",
    "\n",
    "eg:-\n",
    "\n",
    "data = {\n",
    "    'Name': ['John', 'Emily', 'Michael'],\n",
    "    'Age': [20, 19, 21],\n",
    "    'Grade': [85, 92, 78]\n",
    "}\n",
    "\n",
    "df = pd.DataFrame(data)\n",
    "print(df)\n",
    "Output:"
   ]
  },
  {
   "cell_type": "markdown",
   "id": "b63aec63-4763-4dc2-80e4-3bde3864b6d6",
   "metadata": {},
   "source": [
    "#Q5\n",
    "\n",
    "1.head()\n",
    "2.tail()\n",
    "3.describe()\n",
    "4.dtypes()\n",
    "5.unique()\n",
    "6.loc,iloc\n",
    "7.isin()\n",
    "8.dropna()/drop()\n",
    "9.fillna\n",
    "10.replace\n",
    "11.groupby\n",
    "12.merge,join\n",
    "13.sort\n",
    "\n",
    "ex:-\n",
    "grouped_df = df.groupby('Grade').mean()\n",
    "print(grouped_df)"
   ]
  },
  {
   "cell_type": "code",
   "execution_count": null,
   "id": "342b60d5-0b7e-49ee-8cfa-8151606b2e3e",
   "metadata": {},
   "outputs": [],
   "source": [
    "#Q6\n",
    "\n",
    "Series: A Series in pandas is a one-dimensional labeled array, and it is mutable. You can modify the values of a Series by assigning new values to specific indices or slices.\n",
    "\n",
    "DataFrame: A DataFrame in pandas is a two-dimensional labeled data structure, and it is also mutable. You can modify the values of a DataFrame by assigning new values to specific cells, columns, or rows. Additionally, you can add or remove columns from a DataFrame.\n",
    "\n",
    "Panel: A Panel in pandas is a three-dimensional data structure that is less commonly used compared to Series and DataFrame. However, as of pandas version 1.0, the Panel data structure is deprecated and slated for removal in a future version. "
   ]
  }
 ],
 "metadata": {
  "kernelspec": {
   "display_name": "Python 3 (ipykernel)",
   "language": "python",
   "name": "python3"
  },
  "language_info": {
   "codemirror_mode": {
    "name": "ipython",
    "version": 3
   },
   "file_extension": ".py",
   "mimetype": "text/x-python",
   "name": "python",
   "nbconvert_exporter": "python",
   "pygments_lexer": "ipython3",
   "version": "3.10.8"
  }
 },
 "nbformat": 4,
 "nbformat_minor": 5
}
