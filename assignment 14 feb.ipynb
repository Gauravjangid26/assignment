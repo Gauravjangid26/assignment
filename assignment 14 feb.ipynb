{
 "cells": [
  {
   "cell_type": "markdown",
   "id": "f38d080b",
   "metadata": {},
   "source": [
    "Q1.what is multithreading in python? why is it used? Name the module used to handle threads in python\n",
    "\n",
    "Q2.why threading module used? write the use of the following functions\n",
    "\n",
    "1. activeCount\n",
    "\n",
    "2.currentThread\n",
    "\n",
    "3.enumerate)\n",
    "\n",
    "Q3. Explain the following functions\n",
    "\n",
    "a. run\n",
    "\n",
    "b. start\n",
    "\n",
    "c. join\n",
    "\n",
    "d. isAlive\n",
    "\n",
    "Q4. write a python program to create two threads. Thread one must print the list of squares and thread\n",
    "two must print the list of cubes\n",
    "\n",
    "Q5. State advantages and disadvantages of multithreading\n",
    "\n",
    "Q6. Explain deadlocks and race conditions."
   ]
  },
  {
   "cell_type": "markdown",
   "id": "ac28999a",
   "metadata": {},
   "source": [
    "# Q1"
   ]
  },
  {
   "cell_type": "markdown",
   "id": "b0ea4ef9",
   "metadata": {},
   "source": [
    "a thread is synonymous with lightweight processes. So a thread is nothing but an independent flow of execution. It can also be defined as an instance of a process."
   ]
  },
  {
   "cell_type": "markdown",
   "id": "ee2b618a",
   "metadata": {},
   "source": [
    "multithreading in Python is a popular technique that enables multiple tasks to be executed simultaneously. In simple words, the ability of a processor to execute multiple threads simultaneously is known as multithreading."
   ]
  },
  {
   "cell_type": "markdown",
   "id": "87dcb827",
   "metadata": {},
   "source": [
    "uses:-\n",
    "\n",
    "Better communication\n",
    "\n",
    "better throughput in i/o or o/p\n",
    "\n",
    "Simultaneous and fully symmetric use of multiple processors for computation and I/O\n",
    "\n",
    "Minimized system resource usage\n",
    "\n",
    "program structure simplification\n",
    "\n",
    "Improved server responsiveness\n",
    "\n",
    "superior application responsiveness\n",
    "\n"
   ]
  },
  {
   "cell_type": "markdown",
   "id": "b849fcd4",
   "metadata": {},
   "source": [
    "module:- Threading"
   ]
  },
  {
   "cell_type": "markdown",
   "id": "7d0b4437",
   "metadata": {},
   "source": [
    "# Q2 "
   ]
  },
  {
   "cell_type": "markdown",
   "id": "cb9d02a7",
   "metadata": {},
   "source": [
    "The threading module is the high-level implementation of multithreading in Python. It is the go-to approach for managing multithreaded applications. The benefits of the Threading module outweigh the ones of the Thread module.\n",
    "\n",
    "Along with the methods of the Thread module, the Threading module offers additional methods such as –\n",
    "\n",
    "threading.activeCount() − This returns the number of active thread objects.\n",
    "\n",
    "threading.currentThread() − This returns the number of objects that are under the thread control of the caller.\n",
    "\n",
    "threading.enumerate() −This returns the list of all thread objects that are presently active"
   ]
  },
  {
   "cell_type": "markdown",
   "id": "0437c48d",
   "metadata": {},
   "source": [
    "# Q3"
   ]
  },
  {
   "cell_type": "markdown",
   "id": "1bfbdf5e",
   "metadata": {},
   "source": [
    "run() − The run() method is the entry point for a thread.\n",
    "\n",
    "start() − The start() method starts a thread by calling the run method.\n",
    "\n",
    "join([time]) − The join() waits for threads to terminate.\n",
    "\n",
    "isAlive() − The isAlive() method checks whether a thread is still executing."
   ]
  },
  {
   "cell_type": "code",
   "execution_count": 28,
   "id": "1ce4e713",
   "metadata": {},
   "outputs": [],
   "source": [
    "def square(n):\n",
    "    print(\"square of %d is %d\" %(n,n**2))"
   ]
  },
  {
   "cell_type": "code",
   "execution_count": 29,
   "id": "84e1e726",
   "metadata": {},
   "outputs": [],
   "source": [
    "def cube(n):\n",
    "    print(\"square of %d is %d\" %(n,n**3))"
   ]
  },
  {
   "cell_type": "code",
   "execution_count": 30,
   "id": "32ebd2f3",
   "metadata": {},
   "outputs": [],
   "source": [
    "import threading"
   ]
  },
  {
   "cell_type": "code",
   "execution_count": 31,
   "id": "08e88d4b",
   "metadata": {},
   "outputs": [],
   "source": [
    "thread_sq=[threading.Thread(target=square,args=(i,))for i in range(10)]"
   ]
  },
  {
   "cell_type": "code",
   "execution_count": 32,
   "id": "34e6990d",
   "metadata": {},
   "outputs": [],
   "source": [
    "thread_cu=[threading.Thread(target=cube,args=(i,))for i in range(10)]"
   ]
  },
  {
   "cell_type": "code",
   "execution_count": 33,
   "id": "64d5ecd2",
   "metadata": {},
   "outputs": [
    {
     "name": "stdout",
     "output_type": "stream",
     "text": [
      "square of 0 is 0\n",
      "square of 1 is 1\n",
      "square of 2 is 4\n",
      "square of 3 is 9\n",
      "square of 4 is 16\n",
      "square of 5 is 25\n",
      "square of 6 is 36\n",
      "square of 7 is 49\n",
      "square of 8 is 64\n",
      "square of 9 is 81\n"
     ]
    }
   ],
   "source": [
    "for i in thread_sq:\n",
    "    i.start()"
   ]
  },
  {
   "cell_type": "code",
   "execution_count": 34,
   "id": "0c7c0bd4",
   "metadata": {},
   "outputs": [
    {
     "name": "stdout",
     "output_type": "stream",
     "text": [
      "square of 0 is 0\n",
      "square of 1 is 1\n",
      "square of 2 is 8\n",
      "square of 3 is 27\n",
      "square of 4 is 64\n",
      "square of 5 is 125\n",
      "square of 6 is 216\n",
      "square of 7 is 343\n",
      "square of 8 is 512\n",
      "square of 9 is 729\n"
     ]
    }
   ],
   "source": [
    "for i in thread_cu:\n",
    "    i.start()"
   ]
  },
  {
   "cell_type": "markdown",
   "id": "818f254c",
   "metadata": {},
   "source": [
    "# Q5"
   ]
  },
  {
   "cell_type": "markdown",
   "id": "dc6b2357",
   "metadata": {},
   "source": [
    "advantage;-\n",
    "\n",
    "1.it enables better utlizition of shared memory and reasource,as thread share data space and memory\n",
    "\n",
    "2. better response time and time consumption\n",
    "\n",
    "3.it allows concurrently and parallel run of varios ocuurence task\n",
    "\n",
    "disadvantage:-\n",
    "\n",
    "1.Difficulty of managing concurrency\n",
    "\n",
    "2.Difficulty of testing\n",
    "\n",
    "3.Difficulty of porting existing code\n",
    "\n",
    "4.Difficulty of writing code"
   ]
  },
  {
   "cell_type": "markdown",
   "id": "4be9b127",
   "metadata": {},
   "source": [
    "# Q6 "
   ]
  },
  {
   "cell_type": "markdown",
   "id": "ccc2d02d",
   "metadata": {},
   "source": [
    "deadlocks:- when two or more than two process executing then there will be a shared reasource ,one process dont free until get required for it,so they both stuck in a loop\n",
    "\n",
    "race conditions:-\n",
    "\n",
    "Most commonly, race conditions happen when two or more threads access the shared piece of data and resource. In real-time multithreading in Python, it can occur when threads overlap. The solution to this is synchronizing thread"
   ]
  },
  {
   "cell_type": "code",
   "execution_count": null,
   "id": "979c4a20",
   "metadata": {},
   "outputs": [],
   "source": []
  }
 ],
 "metadata": {
  "kernelspec": {
   "display_name": "Python 3 (ipykernel)",
   "language": "python",
   "name": "python3"
  },
  "language_info": {
   "codemirror_mode": {
    "name": "ipython",
    "version": 3
   },
   "file_extension": ".py",
   "mimetype": "text/x-python",
   "name": "python",
   "nbconvert_exporter": "python",
   "pygments_lexer": "ipython3",
   "version": "3.11.1"
  }
 },
 "nbformat": 4,
 "nbformat_minor": 5
}
