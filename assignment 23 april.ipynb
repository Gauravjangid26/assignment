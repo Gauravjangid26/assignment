{
 "cells": [
  {
   "cell_type": "code",
   "execution_count": null,
   "id": "3c4ef96a-2ff3-496c-b076-8c528330a740",
   "metadata": {},
   "outputs": [],
   "source": [
    "Q1. What is the curse of dimensionality reduction and why is it important in machine learning?\n",
    "\n",
    "Q2. How does the curse of dimensionality impact the performance of machine learning algorithms?\n",
    "\n",
    "Q3. What are some of the consequences of the curse of dimensionality in machine learning, and how do\n",
    "they impact model performance?\n",
    "\n",
    "Q4. Can you explain the concept of feature selection and how it can help with dimensionality reduction?\n",
    "\n",
    "Q5. What are some limitations and drawbacks of using dimensionality reduction techniques in machine\n",
    "learning?\n",
    "\n",
    "Q6. How does the curse of dimensionality relate to overfitting and underfitting in machine learning?\n",
    "\n",
    "Q7. How can one determine the optimal number of dimensions to reduce data to when using\n",
    "dimensionality reduction techniques?"
   ]
  }
 ],
 "metadata": {
  "kernelspec": {
   "display_name": "Python 3 (ipykernel)",
   "language": "python",
   "name": "python3"
  },
  "language_info": {
   "codemirror_mode": {
    "name": "ipython",
    "version": 3
   },
   "file_extension": ".py",
   "mimetype": "text/x-python",
   "name": "python",
   "nbconvert_exporter": "python",
   "pygments_lexer": "ipython3",
   "version": "3.10.8"
  }
 },
 "nbformat": 4,
 "nbformat_minor": 5
}
