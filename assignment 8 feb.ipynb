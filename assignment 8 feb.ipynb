{
 "cells": [
  {
   "cell_type": "markdown",
   "id": "f5fe4490",
   "metadata": {},
   "source": [
    "Q1. What is Abstraction in OOps? Explain with an example.\n",
    "\n",
    "Q2. Differentiate between Abstraction and Encapsulation. Explain with an example.\n",
    "\n",
    "Q3. What is abc module in python? Why is it used?\n",
    "\n",
    "Q4. How can we achieve data abstraction?\n",
    "\n",
    "Q5. Can we create an instance of an abstract class? Explain your answer."
   ]
  },
  {
   "cell_type": "markdown",
   "id": "e27f109d",
   "metadata": {},
   "source": [
    "### Q1"
   ]
  },
  {
   "cell_type": "markdown",
   "id": "953b6f52",
   "metadata": {},
   "source": [
    "Abstraction is really powerful for making complex tasks and codes simpler when used in Object-Oriented Programming. It reduces the complexity for the user by making the relevant part accessible and usable leaving the unnecessary code hidden. Also, there are times when we do not want to give out sensitive parts of our code implementation and this is where data abstraction can also prove to be very functional."
   ]
  },
  {
   "cell_type": "code",
   "execution_count": 12,
   "id": "f42c936a",
   "metadata": {},
   "outputs": [
    {
     "ename": "SyntaxError",
     "evalue": "invalid syntax (693292038.py, line 1)",
     "output_type": "error",
     "traceback": [
      "\u001b[0;36m  Cell \u001b[0;32mIn[12], line 1\u001b[0;36m\u001b[0m\n\u001b[0;31m    from abc import ABC,abstract method\u001b[0m\n\u001b[0m                                 ^\u001b[0m\n\u001b[0;31mSyntaxError\u001b[0m\u001b[0;31m:\u001b[0m invalid syntax\n"
     ]
    }
   ],
   "source": [
    "from abc import ABC,abstract method  \n",
    "class ClassName(ABC): \n",
    "    \n",
    "    pass"
   ]
  },
  {
   "cell_type": "code",
   "execution_count": 14,
   "id": "98134fbd",
   "metadata": {},
   "outputs": [],
   "source": [
    "class Car(ABC): \n",
    "    def mileage(self):   \n",
    "        pass  \n",
    "  \n",
    "class Tesla(Car):   \n",
    "    def mileage(self):   \n",
    "        print(\"The mileage is 30kmph\")   \n",
    "        \n",
    "class Suzuki(Car):   \n",
    "    def mileage(self):   \n",
    "        print(\"The mileage is 25kmph \")  \n",
    "        \n",
    "class Duster(Car):   \n",
    "     def mileage(self):   \n",
    "          print(\"The mileage is 24kmph \")   \n",
    "  \n",
    "class Renault(Car):   \n",
    "    def mileage(self):   \n",
    "            print(\"The mileage is 27kmph \")   "
   ]
  },
  {
   "cell_type": "code",
   "execution_count": 5,
   "id": "c5f9bc10",
   "metadata": {},
   "outputs": [
    {
     "name": "stdout",
     "output_type": "stream",
     "text": [
      "The mileage is 30kmph\n",
      "The mileage is 27kmph \n",
      "The mileage is 25kmph \n",
      "The mileage is 24kmph \n"
     ]
    }
   ],
   "source": [
    "t= Tesla ()   \n",
    "t.mileage()   \n",
    "  \n",
    "r = Renault()   \n",
    "r.mileage()   \n",
    "  \n",
    "s = Suzuki()   \n",
    "s.mileage()   \n",
    "d = Duster()   \n",
    "d.mileage()"
   ]
  },
  {
   "cell_type": "markdown",
   "id": "881b60b9",
   "metadata": {},
   "source": [
    "In the above code, we have imported the abc module to create the abstract base class. We created the Car class that inherited the ABC class and defined an abstract method named mileage(). We have then inherited the base class from the three different subclasses and implemented the abstract method differently. We created the objects to call the abstract method."
   ]
  },
  {
   "cell_type": "markdown",
   "id": "c9909a07",
   "metadata": {},
   "source": [
    "### Q2"
   ]
  },
  {
   "cell_type": "markdown",
   "id": "c6918652",
   "metadata": {},
   "source": [
    "                                                    Abstraction--> Encapsulation\n",
    "\n",
    "    Abstraction is the process or method of gaining the information.-->\tWhile encapsulation is the process or method to contain the information.\n",
    "\n",
    "    In abstraction, problems are solved at the design or interface level.-->\tWhile in encapsulation, problems are solved at the implementation level.\n",
    "\n",
    "    Abstraction is the method of hiding the unwanted information.-->\tWhereas encapsulation is a method to hide the data in a single entity or unit along with a method to protect information from outside.\n",
    "\n",
    "    We can implement abstraction using abstract class and interfaces.-->\tWhereas encapsulation can be implemented using by access modifier i.e. private, protected and public.\n",
    "\n",
    "    In abstraction, implementation complexities are hidden using abstract classes and interfaces.-->\tWhile in encapsulation, the data is hidden using methods of getters and setters.\n",
    "\n",
    "    The objects that help to perform abstraction are encapsulated.-->\tWhereas the objects that result in encapsulation need not be abstracted.\n",
    "\n",
    "    Abstraction provides access to specific part of data.-->\tEncapsulation hides data and the user can not access same directly (data hiding.\n",
    "\n",
    "                                                                                                                                Abstraction focus is on “what” should be done.-->\tEncapsulation focus is on “How” it should be done."
   ]
  },
  {
   "cell_type": "markdown",
   "id": "3a24b7fa",
   "metadata": {},
   "source": [
    "\n",
    "\n",
    "The wording of your question is odd - Abstraction vs Encapsulation? It should be - someone explain abstraction and encapsulation...\n",
    "\n",
    "Abstraction is understanding the essence of the thing.\n",
    "\n",
    "A real world example is abstract art. The artists of this style try to capture/paint the essence of the thing that still allows it to be the thing. This brown smear of 4 lines captures the essence of what a bull is.\n",
    "\n",
    "Encapsulation is black boxing.\n",
    "\n",
    "A cell phone is a great example. I have no idea how the cell phone connects to a satellite, tower, or another phone.  have no idea how the damn thing understands my key presses or how it takes and sends pictures to an email address or another phone number. I have no idea about the intricate details of most of how a modern smart phone works. But, I can use it! The phones have standard interfaces (yes - both literal and software design) that allows someone who understand the basics of one to use almost all of them."
   ]
  },
  {
   "cell_type": "markdown",
   "id": "aa8a1a5c",
   "metadata": {},
   "source": [
    "### Q3"
   ]
  },
  {
   "cell_type": "markdown",
   "id": "1c826581",
   "metadata": {},
   "source": [
    "abc stands for abstract base class\n",
    "\n",
    "The main goal of the abstract base class is to provide a standardized way to test whether an object adheres to a given specification. It can also prevent any attempt to instantiate a subclass that doesn’t override a particular method in the superclass. And finally, using an abstract class, a class can derive identity from another class without any object inheritance.\n",
    "\n",
    "uses-\n",
    "abstract classes are used to create a blueprint of our classes \n",
    "\n",
    "For larger projects, it is impossible to remember the class details, and also the reusability of code can increase the bug. Therefore, it plays a crucial role in our projects.\n",
    "By default, Python does not provide abstract classes. The ‘abc’ module in the Python library provides the infrastructure for defining custom abstract base classes."
   ]
  },
  {
   "cell_type": "markdown",
   "id": "69c9f5b3",
   "metadata": {},
   "source": [
    "### Q4"
   ]
  },
  {
   "cell_type": "markdown",
   "id": "6f8a8b24",
   "metadata": {},
   "source": [
    " Python, Abstraction works by incorporating abstract classes and methods.\n",
    "\n",
    "Abstract Class: A class specified in the code that has abstract methods is named Abstract Class.\n",
    "\n",
    "Abstract Method: Here, it doesn’t have any implementation. All the implementations are done inside the sub-classes.\n",
    "\n",
    "Python makes use of a self-variable in method definitions and in initializing a variable. In python, a class method gives information about the class. To define an instant method, this method should declare self as\n",
    "\n",
    "and these are achieved by using abc module\n"
   ]
  },
  {
   "cell_type": "markdown",
   "id": "6adae5d5",
   "metadata": {},
   "source": [
    "### Q5"
   ]
  },
  {
   "cell_type": "markdown",
   "id": "6d1b4cc6",
   "metadata": {},
   "source": [
    "No you can’t, instead you can create instance of all other classes extending that abstract class.\n",
    "\n",
    "Because it's abstract and an object is concrete. An abstract class is sort of like a template, or an empty/partially empty structure, you have to extend it and build on it before you can use it.\n",
    "\n",
    "But an abstract class has a protected constructor (by default) and you can declare your own constructor also allowing derived types (i.e classes) to initialize it member variables so that those (member variables) would be accessible to their derived types through inheritance.\n",
    "\n",
    "Conclusion: you can’t create instance directly using new keyword, but you can call its constructor not to create its instance but to provide initialization to its member variables such that those variables can be accessible and used in its derived classes"
   ]
  },
  {
   "cell_type": "code",
   "execution_count": null,
   "id": "12639f01",
   "metadata": {},
   "outputs": [],
   "source": []
  }
 ],
 "metadata": {
  "kernelspec": {
   "display_name": "Python 3 (ipykernel)",
   "language": "python",
   "name": "python3"
  },
  "language_info": {
   "codemirror_mode": {
    "name": "ipython",
    "version": 3
   },
   "file_extension": ".py",
   "mimetype": "text/x-python",
   "name": "python",
   "nbconvert_exporter": "python",
   "pygments_lexer": "ipython3",
   "version": "3.11.1"
  }
 },
 "nbformat": 4,
 "nbformat_minor": 5
}
