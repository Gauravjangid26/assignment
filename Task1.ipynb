{
 "cells": [
  {
   "cell_type": "markdown",
   "id": "f5f33b07",
   "metadata": {},
   "source": [
    "Q1. Create a function which will take a list as an argument and return the product of all the numbers\n",
    "after creating a flat list.\n",
    "Use the below-given list as an argument for your function.\n",
    "\n",
    "\n",
    "\n",
    "list1 = [1,2,3,4, [44,55,66, True], False, (34,56,78,89,34), {1,2,3,3,2,1}, {1:34, \"key2\": [55, 67, 78, 89], 4: (45,\n",
    "22, 61, 34)}, [56, 'data science'], 'Machine Learning']\n",
    "\n",
    "\n",
    "Note: you must extract numeric keys and values of the dictionary also.\n",
    "\n",
    "\n",
    "Q2. Write a python program for encrypting a message sent to you by your friend. The logic of encryption\n",
    "should be such that, for a the output should be z. For b, the output should be y. For c, the output should\n",
    "be x respectively. Also, the whitespace should be replaced with a dollar sign. Keep the punctuation\n",
    "marks unchanged.\n",
    "\n",
    "Input Sentence: I want to become a Data Scientist.\n",
    "\n",
    "Encrypt the above input sentence using the program you just created.\n",
    "\n",
    "\n",
    "Note: Convert the given input sentence into lowercase before encrypting. The final output should be\n",
    "lowercase."
   ]
  },
  {
   "cell_type": "code",
   "execution_count": 1,
   "id": "2fef66b2",
   "metadata": {},
   "outputs": [],
   "source": [
    "list1 = [1,2,3,4, [44,55,66, True], False, (34,56,78,89,34), {1,2,3,3,2,1}, {1:34, \"key2\": [55, 67, 78, 89], 4: (45,\n",
    "22, 61, 34)}, [56, 'data science'], 'Machine Learning']"
   ]
  },
  {
   "cell_type": "code",
   "execution_count": 8,
   "id": "159fdea4",
   "metadata": {},
   "outputs": [],
   "source": [
    "from functools import reduce\n",
    "def flatten_filter(l1): \n",
    "    \n",
    "    n=[] \n",
    "    for i in l1:\n",
    "        if str(i).isnumeric(): \n",
    "            n.append(i)\n",
    "        elif type(i)==list or type(i)==tuple or type(i)== set : \n",
    "            for j in i:\n",
    "                if str(j).isnumeric():\n",
    "                    n.append(j)\n",
    "        elif type(i)== dict:\n",
    "            for k,v in i.items():\n",
    "                if str(k).isnumeric() :\n",
    "                    n.append(k)\n",
    "                if str(v).isnumeric():\n",
    "                    n.append(v)\n",
    "            for k,v in i.items():\n",
    "                if str(k).isnumeric()== False :\n",
    "                    if type(v)==list or type(v)== tuple:\n",
    "                        for u in v:\n",
    "                            if str(u).isnumeric():\n",
    "                                n.append(u)\n",
    "            for k,v in i.items():\n",
    "                if str(k).isnumeric()== True :\n",
    "                    if type(v)==list or type(v)== tuple:\n",
    "                        for u in v:\n",
    "                            if str(u).isnumeric():\n",
    "                                n.append(u)\n",
    "    return n\n",
    "  \n",
    "   \n"
   ]
  },
  {
   "cell_type": "code",
   "execution_count": 11,
   "id": "cc16b952",
   "metadata": {},
   "outputs": [
    {
     "name": "stdout",
     "output_type": "stream",
     "text": [
      "flatten list is :  [1, 2, 3, 4, 44, 55, 66, 34, 56, 78, 89, 34, 1, 2, 3, 1, 34, 4, 55, 67, 78, 89, 45, 22, 61, 34, 56]\n"
     ]
    }
   ],
   "source": [
    "print(\"flatten list is : \",flatten_filter(list1))"
   ]
  },
  {
   "cell_type": "code",
   "execution_count": 13,
   "id": "e391f6a1",
   "metadata": {},
   "outputs": [
    {
     "name": "stdout",
     "output_type": "stream",
     "text": [
      "4134711838987085478833841242112000\n"
     ]
    }
   ],
   "source": [
    "print(reduce(lambda x,y:x*y,flatten_filter(list1)))"
   ]
  },
  {
   "cell_type": "markdown",
   "id": "b5b2c170",
   "metadata": {},
   "source": [
    "# 2"
   ]
  },
  {
   "cell_type": "code",
   "execution_count": null,
   "id": "171b0233",
   "metadata": {},
   "outputs": [],
   "source": [
    "#extracting from dictionary"
   ]
  },
  {
   "cell_type": "code",
   "execution_count": null,
   "id": "e85c2120",
   "metadata": {},
   "outputs": [],
   "source": [
    "list=[{1:34, \"key2\": [55, 67, 78, 89], 4: (45, 22, 61, 34)}]"
   ]
  },
  {
   "cell_type": "code",
   "execution_count": null,
   "id": "9d8972b1",
   "metadata": {},
   "outputs": [],
   "source": [
    "emp=[]\n",
    "\n",
    "for i in list:\n",
    "    dict=i\n",
    "    for j in dict.keys():\n",
    "        if type(dict[j])==int:\n",
    "            emp.append(dict[j])"
   ]
  },
  {
   "cell_type": "code",
   "execution_count": null,
   "id": "dba4e6a8",
   "metadata": {},
   "outputs": [],
   "source": [
    "for i in list:\n",
    "    print(i)\n",
    "type(i)\n"
   ]
  },
  {
   "cell_type": "code",
   "execution_count": null,
   "id": "e306bc54",
   "metadata": {},
   "outputs": [],
   "source": [
    "encrypt = \"I want to become a Data Scientist\"\n",
    "dict={}\n",
    "for i in range(97,123):\n",
    "        dict[chr(i)]=chr(219-i)\n",
    "        \n",
    "encrypt=\"I want to become a Data Scientist\"\n",
    "dict[\" \"]=\"$\"\n",
    "for i in encrypt.lower():\n",
    "    encrypt = encrypt.replace(i, dict[i])\n",
    "    \n",
    "print(encrypt)    "
   ]
  },
  {
   "cell_type": "code",
   "execution_count": null,
   "id": "2380142e",
   "metadata": {},
   "outputs": [],
   "source": []
  },
  {
   "cell_type": "code",
   "execution_count": null,
   "id": "f03dfe80",
   "metadata": {},
   "outputs": [],
   "source": []
  }
 ],
 "metadata": {
  "kernelspec": {
   "display_name": "Python 3 (ipykernel)",
   "language": "python",
   "name": "python3"
  },
  "language_info": {
   "codemirror_mode": {
    "name": "ipython",
    "version": 3
   },
   "file_extension": ".py",
   "mimetype": "text/x-python",
   "name": "python",
   "nbconvert_exporter": "python",
   "pygments_lexer": "ipython3",
   "version": "3.11.1"
  }
 },
 "nbformat": 4,
 "nbformat_minor": 5
}
