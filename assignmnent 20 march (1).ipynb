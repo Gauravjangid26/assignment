{
 "cells": [
  {
   "cell_type": "markdown",
   "id": "d93a8221-4ce1-44bc-8373-4085bed67e0b",
   "metadata": {},
   "source": [
    "Q1. What is data encoding? How is it useful in data science?\n",
    "\n",
    "Q2. What is nominal encoding? Provide an example of how you would use it in a real-world scenario.\n",
    "\n",
    "Q3. In what situations is nominal encoding preferred over one-hot encoding? Provide a practical example.\n",
    "\n",
    "Q4. Suppose you have a dataset containing categorical data with 5 unique values. Which encoding\n",
    "technique would you use to transform this data into a format suitable for machine learning algorithms?\n",
    "Explain why you made this choice.\n",
    "\n",
    "Q5. In a machine learning project, you have a dataset with 1000 rows and 5 columns. Two of the columns\n",
    "are categorical, and the remaining three columns are numerical. If you were to use nominal encoding to\n",
    "transform the categorical data, how many new columns would be created? Show your calculations.\n",
    "\n",
    "Q6. You are working with a dataset containing information about different types of animals, including their\n",
    "species, habitat, and diet. Which encoding technique would you use to transform the categorical data into\n",
    "a format suitable for machine learning algorithms? Justify your answer.\n",
    "\n",
    "Q7.You are working on a project that involves predicting customer churn for a telecommunications\n",
    "company. You have a dataset with 5 features, including the customer's gender, age, contract type,\n",
    "monthly charges, and tenure. Which encoding technique(s) would you use to transform the categorical\n",
    "data into numerical data? Provide a step-by-step explanation of how you would implement the encoding."
   ]
  },
  {
   "cell_type": "markdown",
   "id": "e364737b-6085-4a1f-a04d-3799a864453f",
   "metadata": {},
   "source": [
    "Q1. Data encoding refers to the process of converting categorical data into numerical representations that can be understood and processed by machine learning algorithms. It is useful in data science because many machine learning algorithms require numerical input for training and prediction. By encoding categorical data, we can represent the information in a format that allows algorithms to learn patterns and make predictions based on the data.\n",
    "\n",
    "Q2. Nominal encoding, also known as label encoding, is a technique used to convert categorical variables into numerical labels. Each unique category is assigned a unique integer label. For example, let's say we have a dataset with a \"Color\" column that contains categorical values such as \"Red,\" \"Green,\" and \"Blue.\" In nominal encoding, we would assign integer labels to each category, such as 0 for \"Red,\" 1 for \"Green,\" and 2 for \"Blue.\"\n",
    "\n",
    "Q3. Nominal encoding is preferred over one-hot encoding in situations where the categorical variable has a large number of unique categories. One-hot encoding creates a new binary feature for each unique category, which can lead to a high-dimensional and sparse dataset. In such cases, using nominal encoding reduces the dimensionality of the dataset and avoids the curse of dimensionality. \n",
    "\n",
    "For example, consider a dataset with a \"Country\" column containing the names of countries. If there are hundreds or thousands of unique countries in the dataset, using one-hot encoding would create a large number of additional columns, making the dataset unwieldy. In this scenario, nominal encoding, where each country is assigned a unique integer label, would be a more practical choice.\n",
    "\n",
    "Q4. If the dataset contains categorical data with 5 unique values, I would use nominal encoding to transform the data into a format suitable for machine learning algorithms. Nominal encoding assigns unique integer labels to each category, which preserves the order information among the categories. It is suitable when the categorical variable has a natural order or when the number of unique categories is relatively small.\n",
    "\n",
    "Q5. If we use nominal encoding to transform the categorical data in a dataset with 1000 rows and 5 columns, the number of new columns created would depend on the number of unique categories in each categorical column. If a column has \"n\" unique categories, nominal encoding would replace that column with a single column containing numerical labels. Therefore, the total number of new columns created would be equal to the number of categorical columns in the dataset.\n",
    "\n",
    "Q6. For transforming categorical data about different types of animals, including their species, habitat, and diet, into a format suitable for machine learning algorithms, I would use one-hot encoding. One-hot encoding is suitable when the categorical variables are not ordinal and do not have a natural order. Each unique category in each variable is represented by a binary feature (0 or 1), indicating the presence or absence of that category. This encoding preserves the distinction between different categories and allows the machine learning algorithms to understand the relationships between the categories.\n",
    "\n",
    "Q7. To transform the categorical data in the customer churn dataset, which includes features like gender, contract type, and tenure, into numerical data, I would use a combination of one-hot encoding and nominal encoding.\n",
    "\n",
    "Step-by-step explanation:\n",
    "1. Apply one-hot encoding to the \"gender\" feature. It has two categories (male and female), so it will be transformed into two binary features: \"gender_male\" and \"gender_female.\"\n",
    "\n",
    "2. Apply nominal encoding to the \"contract type\" feature. It has multiple categories such as \"month-to-month,\" \"one year,\" and \"two year.\" Each category will be assigned a unique integer label, such as 0, 1, and 2, respectively.\n",
    "\n",
    "3. The \"monthly charges\" and \"tenure\" features are already numerical, so no further encoding is needed for them.\n",
    "\n"
   ]
  },
  {
   "cell_type": "code",
   "execution_count": null,
   "id": "8623a5bd-d9f6-4c1f-b23e-0d3098a58298",
   "metadata": {},
   "outputs": [],
   "source": []
  }
 ],
 "metadata": {
  "kernelspec": {
   "display_name": "Python 3 (ipykernel)",
   "language": "python",
   "name": "python3"
  },
  "language_info": {
   "codemirror_mode": {
    "name": "ipython",
    "version": 3
   },
   "file_extension": ".py",
   "mimetype": "text/x-python",
   "name": "python",
   "nbconvert_exporter": "python",
   "pygments_lexer": "ipython3",
   "version": "3.10.8"
  }
 },
 "nbformat": 4,
 "nbformat_minor": 5
}
