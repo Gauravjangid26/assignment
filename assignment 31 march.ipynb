{
 "cells": [
  {
   "cell_type": "markdown",
   "id": "6f69173e-07dc-4188-8bb4-2d45bdf537f5",
   "metadata": {},
   "source": [
    "Q1. What are the key steps involved in building an end-to-end web application, from development to\n",
    "deployment on the cloud?\n",
    "\n",
    "Q2. Explain the difference between traditional web hosting and cloud hosting.\n",
    "\n",
    "Q3. How do you choose the right cloud provider for your application deployment, and what factors\n",
    "should you consider?\n",
    "\n",
    "Q4. How do you design and build a responsive user interface for your web application, and what are\n",
    "some best practices to follow?\n",
    "\n",
    "Q5. How do you integrate the machine learning model with the user interface for the Algerian Forest Fires\n",
    "project(which we discussed in class), and what APIs or libraries can you use for this purpose?"
   ]
  },
  {
   "cell_type": "code",
   "execution_count": null,
   "id": "40850f70-d9b8-4427-98c3-120b09c7ff45",
   "metadata": {},
   "outputs": [],
   "source": []
  }
 ],
 "metadata": {
  "kernelspec": {
   "display_name": "Python 3 (ipykernel)",
   "language": "python",
   "name": "python3"
  },
  "language_info": {
   "codemirror_mode": {
    "name": "ipython",
    "version": 3
   },
   "file_extension": ".py",
   "mimetype": "text/x-python",
   "name": "python",
   "nbconvert_exporter": "python",
   "pygments_lexer": "ipython3",
   "version": "3.10.8"
  }
 },
 "nbformat": 4,
 "nbformat_minor": 5
}
